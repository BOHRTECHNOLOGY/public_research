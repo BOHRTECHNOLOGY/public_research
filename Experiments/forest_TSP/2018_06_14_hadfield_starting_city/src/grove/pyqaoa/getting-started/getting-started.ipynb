{
 "cells": [
  {
   "cell_type": "markdown",
   "metadata": {
    "slideshow": {
     "slide_type": "slide"
    }
   },
   "source": [
    "# pyqaoa\n",
    "A library for running the Quantum Approximate Optimization Algorithm on an instance of a quantum abstract machine. \n",
    "\n",
    "``pyqaoa`` contains the main QAOA algorithm object and submodules demonstrating use for different types of combinatorial optimization. The ``pyqaoa`` can be used in two modes: 1) quantum-state evaluator where the user provides angles pre-computed classically or 2) a quantum-coprocessor model where the angles are determined by the variational-quantum-eigensolver loop.  "
   ]
  },
  {
   "cell_type": "markdown",
   "metadata": {
    "slideshow": {
     "slide_type": "slide"
    }
   },
   "source": [
    "## Getting Started\n",
    "\n",
    "### Prerequisites\n",
    "Before starting, ensure that you have an installation of Python 2.7.(>= 10). You will need the most up to date version of ``pyQuil``, ``numpy``, and ``scipy``.  The submodules that construct the cost and driver Hamiltonians for different optimization problems require ``NetworkX`` and ``Matplotlib``.\n",
    "\n",
    "### Installation\n",
    "```\n",
    "git clone https://github.com/rigetticomputing/pyQuil.git\n",
    "pip install -e ./pyQuil\n",
    "```\n",
    "\n",
    "### Connecting to the `Forest`\n",
    "In order to connect to a QVM you need to set the global enviornment variable `QVM_API_KEY` to the key string that is provided. To add this variable \n",
    "- (on Linux) add the following lines to your `~./.bashrc` file: \n",
    "```\n",
    "export QVM_API_KEY=\"hex-dec-key\"\n",
    "```\n",
    "- (on Windows) in powershell execute the following: \n",
    "```\n",
    "$ENV:QVM_HTTPS_KEY=\"hex-dec-key\"\n",
    "```\n",
    "- Alternatively, (on Windows) you can navigate to start->control panel->System and select Environment Variables.  From this menu you can add a New System Variable and paste the hex-dec-key for the QVM API.\n"
   ]
  },
  {
   "cell_type": "markdown",
   "metadata": {},
   "source": [
    "## Package Components\n",
    "\n",
    "The `pyqaoa` package contains the `QAOA` class that manages the QAOA problem instance and provides hooks to the variational quantum eigensolver routine in the pyQuil library.  The other modules in the pyQAOA library are examples of interacting with the QAOA class for various combinatorial optimization problems.  Notebooks describing the QAOA algorithm for two specific problems can be found in this folder.\n"
   ]
  }
 ],
 "metadata": {
  "anaconda-cloud": {},
  "celltoolbar": "Raw Cell Format",
  "kernelspec": {
   "display_name": "Python [default]",
   "language": "python",
   "name": "python2"
  },
  "language_info": {
   "codemirror_mode": {
    "name": "ipython",
    "version": 2
   },
   "file_extension": ".py",
   "mimetype": "text/x-python",
   "name": "python",
   "nbconvert_exporter": "python",
   "pygments_lexer": "ipython2",
   "version": "2.7.12"
  }
 },
 "nbformat": 4,
 "nbformat_minor": 0
}
